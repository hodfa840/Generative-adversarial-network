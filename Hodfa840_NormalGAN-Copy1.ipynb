{
 "cells": [
  {
   "cell_type": "markdown",
   "id": "cfde5a97",
   "metadata": {},
   "source": [
    "#### LiuID: Hodfa840\n",
    "#### name: Hoda"
   ]
  },
  {
   "cell_type": "code",
   "execution_count": null,
   "id": "83f6486a",
   "metadata": {},
   "outputs": [],
   "source": []
  },
  {
   "cell_type": "code",
   "execution_count": 22,
   "id": "16173328",
   "metadata": {},
   "outputs": [],
   "source": [
    "import numpy as np\n",
    "import matplotlib.pyplot as plt\n",
    "# from sklearn.neighbors import KernelDensity\n",
    "from scipy.stats import gaussian_kde\n",
    "from scipy.stats import norm\n",
    "from scipy.integrate import quad"
   ]
  },
  {
   "cell_type": "code",
   "execution_count": 23,
   "id": "a0940bad-ec65-460b-b2aa-83285034922d",
   "metadata": {},
   "outputs": [],
   "source": [
    "import torch\n",
    "from torch import nn\n",
    "from torch.utils.data import Dataset\n",
    "import numpy as np\n",
    "import matplotlib.pyplot as plt\n",
    "from numpy.random import default_rng\n",
    "import warnings\n",
    "warnings.filterwarnings('ignore')\n"
   ]
  },
  {
   "cell_type": "code",
   "execution_count": 24,
   "id": "959a55b3",
   "metadata": {},
   "outputs": [
    {
     "name": "stdout",
     "output_type": "stream",
     "text": [
      "Using device: cuda\n",
      "\n"
     ]
    }
   ],
   "source": [
    "# setting device on GPU if available, else CPU\n",
    "device = torch.device('cuda' if torch.cuda.is_available() else 'cpu')\n",
    "print('Using device:', device)\n",
    "print()\n"
   ]
  },
  {
   "cell_type": "code",
   "execution_count": 25,
   "id": "cc852128-537a-4291-a6c9-49e1c9351abf",
   "metadata": {},
   "outputs": [],
   "source": [
    "class NormalDataset(Dataset):\n",
    "    def __init__(self, samples, mean, std):\n",
    "        self.mean = mean\n",
    "        self.std = std\n",
    "        rng = default_rng()\n",
    "        self.data = rng.normal(loc = self.mean, scale = self.std, size=samples)\n",
    "        \n",
    "    def __len__(self):\n",
    "        return len(self.data)\n",
    "    \n",
    "    def __getitem__(self, i):\n",
    "        return self.data[i]"
   ]
  },
  {
   "cell_type": "code",
   "execution_count": 26,
   "id": "1a8db6fc-88e3-48c9-8860-d1e26d409ef4",
   "metadata": {},
   "outputs": [],
   "source": [
    "rng = default_rng()\n",
    "mean = 0\n",
    "std = 1\n",
    "\n",
    "def generate_noise(length):\n",
    "    return rng.uniform(mean, std, length)"
   ]
  },
  {
   "cell_type": "code",
   "execution_count": 27,
   "id": "e4664b96-3e06-4c0c-a99f-7d4c62b44223",
   "metadata": {},
   "outputs": [
    {
     "data": {
      "image/png": "[encoded data removed]",
      "text/plain": [
       "<Figure size 432x288 with 1 Axes>"
      ]
     },
     "metadata": {
      "needs_background": "light"
     },
     "output_type": "display_data"
    }
   ],
   "source": [
    "plt.hist(generate_noise(1000))\n",
    "plt.show()"
   ]
  },
  {
   "cell_type": "code",
   "execution_count": 28,
   "id": "c803148a-ca20-4284-8c23-97b4227ad9b7",
   "metadata": {},
   "outputs": [],
   "source": [
    "data = NormalDataset(10000, 0, 1)"
   ]
  },
  {
   "cell_type": "code",
   "execution_count": 29,
   "id": "18715358",
   "metadata": {},
   "outputs": [],
   "source": [
    "dense = np.histogram(data.data,density=True)"
   ]
  },
  {
   "cell_type": "code",
   "execution_count": 30,
   "id": "f06af146-d20c-438a-89fb-16595a370059",
   "metadata": {},
   "outputs": [
    {
     "data": {
      "image/png": "[encoded data removed]",
      "text/plain": [
       "<Figure size 432x288 with 1 Axes>"
      ]
     },
     "metadata": {
      "needs_background": "light"
     },
     "output_type": "display_data"
    }
   ],
   "source": [
    "plt.hist(data, bins=100)\n",
    "plt.title('Dataset histogram')\n",
    "plt.show()"
   ]
  },
  {
   "cell_type": "code",
   "execution_count": 31,
   "id": "1e0d1b56-b0cd-46d1-87eb-525383476b28",
   "metadata": {},
   "outputs": [],
   "source": [
    "n_training = round(0.9 * len(data))\n",
    "n_testing = len(data) - n_training\n",
    "train_data, test_data = torch.utils.data.random_split(data, [n_training, n_testing])"
   ]
  },
  {
   "cell_type": "code",
   "execution_count": 32,
   "id": "ea9ba57a-acb5-4727-af90-b811f74d9cc3",
   "metadata": {},
   "outputs": [],
   "source": [
    "epochs = 10"
   ]
  },
  {
   "cell_type": "code",
   "execution_count": 33,
   "id": "e8ae1879-4bf3-4b43-8699-0abc31e1ceae",
   "metadata": {},
   "outputs": [],
   "source": [
    "batch_size = 128\n",
    "\n",
    "train_loader = torch.utils.data.DataLoader(train_data, batch_size=batch_size, num_workers=8)\n",
    "test_loader = torch.utils.data.DataLoader(test_data, batch_size=batch_size, num_workers=8)"
   ]
  },
  {
   "cell_type": "code",
   "execution_count": 34,
   "id": "b501b76b-306d-47ef-b8ea-1c6206bcdc6a",
   "metadata": {},
   "outputs": [],
   "source": [
    "generator_width = 100\n",
    "generator_input_size = 64\n",
    "\n",
    "generator = nn.Sequential(\n",
    "    nn.Linear(generator_input_size, generator_width),\n",
    "    nn.ReLU(),\n",
    "    nn.Linear(generator_width, generator_width),\n",
    "    \n",
    "  \n",
    "    nn.LeakyReLU(0.05),\n",
    "    nn.Linear(generator_width, generator_width//2),\n",
    "    nn.BatchNorm1d(generator_width//2),\n",
    "    nn.LeakyReLU(0.05),\n",
    "    nn.Linear(generator_width//2, generator_width//4),\n",
    "    nn.BatchNorm1d(generator_width//4),\n",
    "    nn.LeakyReLU(0.01),\n",
    "    nn.Linear(generator_width//4, 1),\n",
    ")"
   ]
  },
  {
   "cell_type": "code",
   "execution_count": 35,
   "id": "98ce5634-7006-4467-8a84-3ec0a5c66653",
   "metadata": {},
   "outputs": [],
   "source": [
    "discriminator_width = generator_width\n",
    "\n",
    "discriminator = nn.Sequential(\n",
    "    nn.Linear(1, discriminator_width),\n",
    "    nn.ReLU(),\n",
    "    nn.Linear(discriminator_width, discriminator_width),\n",
    "    nn.LeakyReLU(0.05),\n",
    "    nn.Linear(discriminator_width, discriminator_width//2),\n",
    "    nn.BatchNorm1d(generator_width//2),\n",
    "    nn.LeakyReLU(0.05),\n",
    "    nn.Linear(discriminator_width//2,discriminator_width//4),\n",
    "     nn.LeakyReLU(0.05),\n",
    "    nn.Linear(discriminator_width//4, 1),\n",
    "    nn.LeakyReLU(0.01),\n",
    "    nn.Sigmoid()\n",
    ")"
   ]
  },
  {
   "cell_type": "code",
   "execution_count": 36,
   "id": "ac7ebf86-e867-4f79-bafe-43c32a7be243",
   "metadata": {},
   "outputs": [],
   "source": [
    "generator_optimizer = torch.optim.Adam(generator.parameters(),betas=(0.5,0.999), lr=5e-3)\n",
    "discriminator_optimizer = torch.optim.Adam(discriminator.parameters(),betas=(0.5,0.999), lr=5e-3)\n",
    "criterion = nn.BCELoss()"
   ]
  },
  {
   "cell_type": "code",
   "execution_count": null,
   "id": "db9fc43d",
   "metadata": {},
   "outputs": [],
   "source": []
  },
  {
   "cell_type": "code",
   "execution_count": 37,
   "id": "6cc6ebbb-099b-4dda-822d-69db5e34f2f3",
   "metadata": {},
   "outputs": [
    {
     "name": "stdout",
     "output_type": "stream",
     "text": [
      "Epoch 10  Generator loss: 0.69449  Discriminator loss: 0.69316\n"
     ]
    },
    {
     "data": {
      "image/png": "[encoded data removed]",
      "text/plain": [
       "<Figure size 432x288 with 1 Axes>"
      ]
     },
     "metadata": {
      "needs_background": "light"
     },
     "output_type": "display_data"
    }
   ],
   "source": [
    "for epoch in range(1, epochs + 1):\n",
    "    discriminator_loss_epoch = 0\n",
    "    generator_loss_epoch = 0\n",
    "    \n",
    "    for batch_real in train_loader:\n",
    "        # Train the discriminator\n",
    "        batch_real = torch.tensor(batch_real, dtype=torch.float)\n",
    "        batch_real = batch_real.reshape(-1, 1)\n",
    "\n",
    "        noise = generate_noise(len(batch_real) * generator_input_size)\n",
    "        noise = torch.tensor(noise, dtype=torch.float)\n",
    "        noise = noise.reshape(-1, generator_input_size)\n",
    "        generated = generator(noise)\n",
    "        \n",
    "        discriminator_optimizer.zero_grad()\n",
    "        \n",
    "        fake = discriminator(generated)\n",
    "        real = discriminator(batch_real)\n",
    "        ############### max log(D(x)) + log(1 - D(G(z)))\n",
    "        lossD_real = criterion(real, torch.ones_like(real))\n",
    "        lossD_fake = criterion(fake, torch.zeros_like(fake))\n",
    "        discriminator_loss = (lossD_real + lossD_fake) / 2\n",
    "        discriminator.zero_grad()\n",
    "        ###############\n",
    "        discriminator_loss.backward(retain_graph=True)\n",
    "        discriminator_optimizer.step()\n",
    "        \n",
    "        # Train the generator min log(1 - D(G(z))) <-> max log(D(G(z))\n",
    "        noise = generate_noise(len(batch_real) * generator_input_size)\n",
    "        noise = torch.tensor(noise, dtype=torch.float)\n",
    "        noise = noise.reshape(-1, generator_input_size)\n",
    "\n",
    "        generator_optimizer.zero_grad()\n",
    "        generated = generator(noise)\n",
    "        \n",
    "        fake1 = discriminator(generated)\n",
    "        \n",
    "        generator_loss = criterion(fake1, torch.ones_like(fake1))\n",
    "        generator.zero_grad()\n",
    "        generator_loss.backward()\n",
    "        generator_optimizer.step()\n",
    "        \n",
    "        generator_loss_epoch += generator_loss.item() * batch_real.size(0)\n",
    "        discriminator_loss_epoch += discriminator_loss.item() * batch_real.size(0)\n",
    "\n",
    "    \n",
    "    generator_loss_epoch = generator_loss_epoch / len(train_loader.dataset)\n",
    "    discriminator_loss_epoch = discriminator_loss_epoch / len(train_loader.dataset)\n",
    "    #print(f\"Epoch {epoch}  Generator loss: {generator_loss_epoch:.3}  Discriminator loss: {discriminator_loss_epoch:.3}\")\n",
    "        \n",
    "    if np.isnan(generator_loss_epoch) or np.isnan(discriminator_loss_epoch):\n",
    "        print(\"Breaking due to NaN\")\n",
    "        break\n",
    "      \n",
    "    if epoch % 10 == 0:\n",
    "        print(f\"Epoch {epoch}  Generator loss: {generator_loss_epoch:.5}  Discriminator loss: {discriminator_loss_epoch:.5}\")\n",
    "    if epoch % 10 == 0:\n",
    "        with torch.no_grad():\n",
    "            real = []\n",
    "            fake = []\n",
    "            \n",
    "            for batch_real in test_loader:\n",
    "                batch_real = batch_real.float()\n",
    "                batch_real = batch_real.reshape(-1, 1)\n",
    "    \n",
    "                noise = generate_noise(len(batch_real) * generator_input_size)\n",
    "                noise = torch.tensor(noise, dtype=torch.float)\n",
    "                noise = noise.reshape(-1, generator_input_size)\n",
    "                \n",
    "                generated = generator(noise)\n",
    "\n",
    "                fake.append(generated)\n",
    "                real.append(batch_real)\n",
    "                \n",
    "            fake = torch.concat(fake)\n",
    "            real = torch.concat(real)\n",
    "            \n",
    "            fake = np.array(fake).reshape(-1)\n",
    "            real = np.array(real).reshape(-1)\n",
    "            \n",
    "            xs_eval = torch.linspace(mean - 3 * std, mean + 3 * std, 1000)\n",
    "\n",
    "            plt.figure()\n",
    "            plt.hist([real, fake], label=['Real', 'Fake'], density=True, bins=50)\n",
    "            plt.plot(xs_eval, discriminator(xs_eval.reshape(-1, 1)), label='Discriminator output')\n",
    "            plt.legend()\n",
    "            plt.title(f\"Epoch {epoch}\")\n",
    "            plt.show()\n",
    "        \n",
    "        # optimizer.zero_grad()\n",
    "        \n",
    "        # outputs = model(inputs)\n",
    "        \n",
    "        # loss = torch.mean((outputs - labels) ** 2)\n",
    "        # loss.backward()\n",
    "        # optimizer.step()\n",
    "        \n",
    "        # train_loss += loss.item() * inputs.size(0)\n",
    "        \n",
    "    # train_loss = train_loss / len(train_loader.dataset)\n",
    "    # print(f\"Epoch {i+1}: {train_loss}\")"
   ]
  },
  {
   "cell_type": "code",
   "execution_count": 52,
   "id": "e95cd5ac",
   "metadata": {},
   "outputs": [],
   "source": [
    "def train(epochs):\n",
    "    \n",
    "    for epoch in range(1, epochs + 1):\n",
    "        discriminator_loss_epoch = 0\n",
    "        generator_loss_epoch = 0\n",
    "    \n",
    "        for batch_real in train_loader:\n",
    "        # Train the discriminator\n",
    "            batch_real = torch.tensor(batch_real, dtype=torch.float)\n",
    "            batch_real = batch_real.reshape(-1, 1)\n",
    "\n",
    "            noise = generate_noise(len(batch_real) * generator_input_size)\n",
    "            noise = torch.tensor(noise, dtype=torch.float)\n",
    "            noise = noise.reshape(-1, generator_input_size)\n",
    "            generated = generator(noise)\n",
    "        \n",
    "            discriminator_optimizer.zero_grad()\n",
    "        \n",
    "            fake = discriminator(generated)\n",
    "            real = discriminator(batch_real)\n",
    "            ############### max log(D(x)) + log(1 - D(G(z)))\n",
    "            lossD_real = criterion(real, torch.ones_like(real))\n",
    "            lossD_fake = criterion(fake, torch.zeros_like(fake))\n",
    "            discriminator_loss = (lossD_real + lossD_fake) / 2\n",
    "            discriminator.zero_grad()\n",
    "        ###############\n",
    "            discriminator_loss.backward(retain_graph=True)\n",
    "            discriminator_optimizer.step()\n",
    "        \n",
    "        # Train the generator min log(1 - D(G(z))) <-> max log(D(G(z))\n",
    "            noise = generate_noise(len(batch_real) * generator_input_size)\n",
    "            noise = torch.tensor(noise, dtype=torch.float)\n",
    "            noise = noise.reshape(-1, generator_input_size)\n",
    "\n",
    "            generator_optimizer.zero_grad()\n",
    "            generated = generator(noise)\n",
    "            \n",
    "            fake1 = discriminator(generated)\n",
    "            \n",
    "            generator_loss = criterion(fake1, torch.ones_like(fake1))\n",
    "            generator.zero_grad()\n",
    "            generator_loss.backward()\n",
    "            generator_optimizer.step()\n",
    "        \n",
    "            generator_loss_epoch += generator_loss.item() * batch_real.size(0)\n",
    "            discriminator_loss_epoch += discriminator_loss.item() * batch_real.size(0)\n",
    "\n",
    "    \n",
    "        generator_loss_epoch = generator_loss_epoch / len(train_loader.dataset)\n",
    "        discriminator_loss_epoch = discriminator_loss_epoch / len(train_loader.dataset)\n",
    "    #print(f\"Epoch {epoch}  Generator loss: {generator_loss_epoch:.3}  Discriminator loss: {discriminator_loss_epoch:.3}\")\n",
    "        \n",
    "        if np.isnan(generator_loss_epoch) or np.isnan(discriminator_loss_epoch):\n",
    "            print(\"Breaking due to NaN\")\n",
    "            break\n",
    "    return generator_loss_epoch\n",
    "\n",
    "    \n"
   ]
  },
  {
   "cell_type": "code",
   "execution_count": null,
   "id": "eb4f45a3",
   "metadata": {},
   "outputs": [],
   "source": []
  },
  {
   "cell_type": "code",
   "execution_count": 39,
   "id": "3c01acaa",
   "metadata": {},
   "outputs": [
    {
     "data": {
      "text/plain": [
       "0.6941195645862156"
      ]
     },
     "execution_count": 39,
     "metadata": {},
     "output_type": "execute_result"
    }
   ],
   "source": [
    "train(epochs = 10)"
   ]
  },
  {
   "cell_type": "code",
   "execution_count": 19,
   "id": "c1daeb3c",
   "metadata": {},
   "outputs": [
    {
     "data": {
      "image/png": "[encoded data removed]",
      "text/plain": [
       "<Figure size 432x288 with 1 Axes>"
      ]
     },
     "metadata": {
      "needs_background": "light"
     },
     "output_type": "display_data"
    }
   ],
   "source": [
    "plt.hist([real, fake], label=['Real', 'Fake'], density=True, bins=50)\n",
    "plt.show()"
   ]
  },
  {
   "cell_type": "code",
   "execution_count": 32,
   "id": "8d08caab-cb16-4d30-b644-01cc1bb91738",
   "metadata": {},
   "outputs": [
    {
     "data": {
      "text/plain": [
       "-2.5895193"
      ]
     },
     "execution_count": 32,
     "metadata": {},
     "output_type": "execute_result"
    }
   ],
   "source": []
  },
  {
   "cell_type": "code",
   "execution_count": 36,
   "id": "e0ea8ac2",
   "metadata": {},
   "outputs": [],
   "source": [
    "xmin = np.min([real,fake])\n",
    "xmax = np.max([real,fake])"
   ]
  },
  {
   "cell_type": "code",
   "execution_count": 37,
   "id": "efa16bf2",
   "metadata": {},
   "outputs": [
    {
     "data": {
      "text/plain": [
       "2.8428352"
      ]
     },
     "execution_count": 37,
     "metadata": {},
     "output_type": "execute_result"
    }
   ],
   "source": [
    "xmax"
   ]
  },
  {
   "cell_type": "code",
   "execution_count": 38,
   "id": "0a9c9f2b",
   "metadata": {},
   "outputs": [],
   "source": [
    "n_bins = 50\n",
    "bins = np.linspace(xmin, xmax, n_bins)\n",
    "h1, edges = np.histogram(fake, bins=bins)\n",
    "h2, edges = np.histogram(real, bins=bins)\n",
    "\n",
    "h1 = h1 / np.sum(h1)\n",
    "h2 = h2 / np.sum(h2)"
   ]
  },
  {
   "cell_type": "code",
   "execution_count": 41,
   "id": "d390405d",
   "metadata": {},
   "outputs": [
    {
     "data": {
      "image/png": "[encoded data removed]",
      "text/plain": [
       "<Figure size 432x288 with 1 Axes>"
      ]
     },
     "metadata": {
      "needs_background": "light"
     },
     "output_type": "display_data"
    }
   ],
   "source": [
    "plt.bar(edges[:-1], h1, alpha = 0.5, width = 0.2,label = 'fake')\n",
    "plt.bar(edges[:-1], h2, alpha = 0.5, width = 0.2,label = 'real')\n",
    "plt.legend()\n",
    "plt.show()"
   ]
  },
  {
   "cell_type": "code",
   "execution_count": 44,
   "id": "d0ce3e03-4270-46bb-872b-911ca1052426",
   "metadata": {},
   "outputs": [
    {
     "data": {
      "image/png": "[encoded data removed]",
      "text/plain": [
       "<Figure size 432x288 with 1 Axes>"
      ]
     },
     "metadata": {
      "needs_background": "light"
     },
     "output_type": "display_data"
    }
   ],
   "source": [
    "sumover =  h1 * np.log((h1 + 1e-6) / (h2 + 1e-6))\n",
    "\n",
    "plt.bar(edges[:-1], sumover,width = 0.2)\n",
    "# plt.bar(edges[:-1], h1, alpha = 0.5, width = 0.2)\n",
    "# plt.bar(edges[:-1], h2, alpha = 0.5, width = 0.2)\n",
    "plt.show()"
   ]
  },
  {
   "cell_type": "code",
   "execution_count": 46,
   "id": "03f72ebc",
   "metadata": {},
   "outputs": [
    {
     "data": {
      "text/plain": [
       "0.06753085430735341"
      ]
     },
     "execution_count": 46,
     "metadata": {},
     "output_type": "execute_result"
    }
   ],
   "source": [
    "discrete_kl = np.sum(sumover)\n",
    "discrete_kl"
   ]
  },
  {
   "cell_type": "code",
   "execution_count": null,
   "id": "897ff1bc",
   "metadata": {},
   "outputs": [],
   "source": []
  },
  {
   "cell_type": "code",
   "execution_count": 49,
   "id": "0bad71f1",
   "metadata": {},
   "outputs": [],
   "source": [
    "dis1  = fake\n",
    "dist2 = real\n",
    "x = np.linspace(xmin, xmax, 100)\n"
   ]
  },
  {
   "cell_type": "code",
   "execution_count": 52,
   "id": "b7886b32",
   "metadata": {},
   "outputs": [
    {
     "data": {
      "text/plain": [
       "[<matplotlib.lines.Line2D at 0x7f0cc8289d00>]"
      ]
     },
     "execution_count": 52,
     "metadata": {},
     "output_type": "execute_result"
    },
    {
     "data": {
      "image/png": "[encoded data removed]",
      "text/plain": [
       "<Figure size 432x288 with 1 Axes>"
      ]
     },
     "metadata": {
      "needs_background": "light"
     },
     "output_type": "display_data"
    }
   ],
   "source": [
    "n_samples = 10000\n",
    "draws1 = fake\n",
    "draws2 = real\n",
    "\n",
    "# bw_method = .5\n",
    "bw_method = 'scott'\n",
    "kde1 = gaussian_kde(draws1, bw_method=bw_method)\n",
    "kde2 = gaussian_kde(draws2, bw_method=bw_method)\n",
    "\n",
    "plt.hist([draws1, draws2], bins=15, density=True)\n",
    "plt.plot(x, kde1(x))\n",
    "plt.plot(x, kde2(x))"
   ]
  },
  {
   "cell_type": "code",
   "execution_count": 53,
   "id": "541bf21a",
   "metadata": {},
   "outputs": [
    {
     "data": {
      "image/png": "[encoded data removed]",
      "text/plain": [
       "<Figure size 432x288 with 1 Axes>"
      ]
     },
     "metadata": {
      "needs_background": "light"
     },
     "output_type": "display_data"
    }
   ],
   "source": [
    "f = lambda x: kde1(x) * np.log((kde1(x) + 1e-6) / (kde2(x) + 1e-6))\n",
    "\n",
    "plt.plot(x, f(x))\n",
    "plt.show()"
   ]
  },
  {
   "cell_type": "code",
   "execution_count": 56,
   "id": "f8be875d",
   "metadata": {},
   "outputs": [
    {
     "data": {
      "text/plain": [
       "(0.0304216016640858, 2.1050205467488597e-11)"
      ]
     },
     "execution_count": 56,
     "metadata": {},
     "output_type": "execute_result"
    }
   ],
   "source": [
    "kernel_integral, error = quad(f, xmin, xmax)\n",
    "kernel_integral, error"
   ]
  },
  {
   "cell_type": "code",
   "execution_count": 69,
   "id": "a50a2ba2",
   "metadata": {},
   "outputs": [
    {
     "name": "stdout",
     "output_type": "stream",
     "text": [
      "Numerical integration of kernels\t 0.0304216016640858\n",
      "Discretization using histograms\t\t 0.06753085430735341\n"
     ]
    }
   ],
   "source": [
    "print(\"Numerical integration of kernels\\t\", kernel_integral)\n",
    "print(\"Discretization using histograms\\t\\t\", discrete_kl)"
   ]
  },
  {
   "cell_type": "code",
   "execution_count": 71,
   "id": "1556f71a",
   "metadata": {},
   "outputs": [],
   "source": [
    "# save numpy array as npy file\n",
    "from numpy import asarray\n",
    "from numpy import save\n",
    "# define data\n",
    "data = asarray([[real],[fake]])\n",
    "# save to npy file\n",
    "save('model1.npy', data)"
   ]
  },
  {
   "cell_type": "markdown",
   "id": "39369d98",
   "metadata": {},
   "source": [
    "# "
   ]
  },
  {
   "cell_type": "code",
   "execution_count": 41,
   "id": "257fdc54",
   "metadata": {},
   "outputs": [],
   "source": [
    "\n",
    "from hyperopt import fmin, tpe, hp, STATUS_OK, Trials\n",
    "#from sklearn.metrics import roc_auc_score\n",
    "import sys\n"
   ]
  },
  {
   "cell_type": "code",
   "execution_count": 48,
   "id": "ae6d233b",
   "metadata": {},
   "outputs": [],
   "source": [
    "space = {\n",
    "   # 'optimizer': hp.choice('optimizer', ['Adam', 'SGD','RMSprop']),\n",
    "    #'lr': hp.uniform('lr_rate', 5e-4,5e-3),\n",
    "    'batch_size' : hp.uniform('batch_size', 28,128),\n",
    "    \n",
    "}"
   ]
  },
  {
   "cell_type": "code",
   "execution_count": 49,
   "id": "72bd6897",
   "metadata": {},
   "outputs": [],
   "source": [
    "trials = Trials()\n"
   ]
  },
  {
   "cell_type": "code",
   "execution_count": 51,
   "id": "93357170",
   "metadata": {},
   "outputs": [
    {
     "name": "stdout",
     "output_type": "stream",
     "text": [
      "\r",
      "  0%|                                    | 0/50 [00:00<?, ?trial/s, best loss=?]"
     ]
    },
    {
     "name": "stderr",
     "output_type": "stream",
     "text": [
      "job exception: unsupported operand type(s) for +: 'dict' and 'int'\n",
      "\n"
     ]
    },
    {
     "name": "stdout",
     "output_type": "stream",
     "text": [
      "  0%|                                    | 0/50 [00:00<?, ?trial/s, best loss=?]\n"
     ]
    },
    {
     "ename": "TypeError",
     "evalue": "unsupported operand type(s) for +: 'dict' and 'int'",
     "output_type": "error",
     "traceback": [
      "\u001b[0;31m---------------------------------------------------------------------------\u001b[0m",
      "\u001b[0;31mTypeError\u001b[0m                                 Traceback (most recent call last)",
      "Input \u001b[0;32mIn [51]\u001b[0m, in \u001b[0;36m<module>\u001b[0;34m\u001b[0m\n\u001b[0;32m----> 1\u001b[0m best \u001b[38;5;241m=\u001b[39m \u001b[43mfmin\u001b[49m\u001b[43m(\u001b[49m\u001b[43mtrain\u001b[49m\u001b[43m,\u001b[49m\u001b[43m \u001b[49m\u001b[43mspace\u001b[49m\u001b[43m,\u001b[49m\u001b[43m \u001b[49m\u001b[43malgo\u001b[49m\u001b[38;5;241;43m=\u001b[39;49m\u001b[43mtpe\u001b[49m\u001b[38;5;241;43m.\u001b[39;49m\u001b[43msuggest\u001b[49m\u001b[43m,\u001b[49m\u001b[43m \u001b[49m\u001b[43mmax_evals\u001b[49m\u001b[38;5;241;43m=\u001b[39;49m\u001b[38;5;241;43m50\u001b[39;49m\u001b[43m,\u001b[49m\u001b[43m \u001b[49m\u001b[43mtrials\u001b[49m\u001b[38;5;241;43m=\u001b[39;49m\u001b[43mtrials\u001b[49m\u001b[43m)\u001b[49m\n",
      "File \u001b[0;32m/media/hodfa/Hoda/miniconda/envs/pytorch-env/lib/python3.9/site-packages/hyperopt/fmin.py:540\u001b[0m, in \u001b[0;36mfmin\u001b[0;34m(fn, space, algo, max_evals, timeout, loss_threshold, trials, rstate, allow_trials_fmin, pass_expr_memo_ctrl, catch_eval_exceptions, verbose, return_argmin, points_to_evaluate, max_queue_len, show_progressbar, early_stop_fn, trials_save_file)\u001b[0m\n\u001b[1;32m    537\u001b[0m     fn \u001b[38;5;241m=\u001b[39m __objective_fmin_wrapper(fn)\n\u001b[1;32m    539\u001b[0m \u001b[38;5;28;01mif\u001b[39;00m allow_trials_fmin \u001b[38;5;129;01mand\u001b[39;00m \u001b[38;5;28mhasattr\u001b[39m(trials, \u001b[38;5;124m\"\u001b[39m\u001b[38;5;124mfmin\u001b[39m\u001b[38;5;124m\"\u001b[39m):\n\u001b[0;32m--> 540\u001b[0m     \u001b[38;5;28;01mreturn\u001b[39;00m \u001b[43mtrials\u001b[49m\u001b[38;5;241;43m.\u001b[39;49m\u001b[43mfmin\u001b[49m\u001b[43m(\u001b[49m\n\u001b[1;32m    541\u001b[0m \u001b[43m        \u001b[49m\u001b[43mfn\u001b[49m\u001b[43m,\u001b[49m\n\u001b[1;32m    542\u001b[0m \u001b[43m        \u001b[49m\u001b[43mspace\u001b[49m\u001b[43m,\u001b[49m\n\u001b[1;32m    543\u001b[0m \u001b[43m        \u001b[49m\u001b[43malgo\u001b[49m\u001b[38;5;241;43m=\u001b[39;49m\u001b[43malgo\u001b[49m\u001b[43m,\u001b[49m\n\u001b[1;32m    544\u001b[0m \u001b[43m        \u001b[49m\u001b[43mmax_evals\u001b[49m\u001b[38;5;241;43m=\u001b[39;49m\u001b[43mmax_evals\u001b[49m\u001b[43m,\u001b[49m\n\u001b[1;32m    545\u001b[0m \u001b[43m        \u001b[49m\u001b[43mtimeout\u001b[49m\u001b[38;5;241;43m=\u001b[39;49m\u001b[43mtimeout\u001b[49m\u001b[43m,\u001b[49m\n\u001b[1;32m    546\u001b[0m \u001b[43m        \u001b[49m\u001b[43mloss_threshold\u001b[49m\u001b[38;5;241;43m=\u001b[39;49m\u001b[43mloss_threshold\u001b[49m\u001b[43m,\u001b[49m\n\u001b[1;32m    547\u001b[0m \u001b[43m        \u001b[49m\u001b[43mmax_queue_len\u001b[49m\u001b[38;5;241;43m=\u001b[39;49m\u001b[43mmax_queue_len\u001b[49m\u001b[43m,\u001b[49m\n\u001b[1;32m    548\u001b[0m \u001b[43m        \u001b[49m\u001b[43mrstate\u001b[49m\u001b[38;5;241;43m=\u001b[39;49m\u001b[43mrstate\u001b[49m\u001b[43m,\u001b[49m\n\u001b[1;32m    549\u001b[0m \u001b[43m        \u001b[49m\u001b[43mpass_expr_memo_ctrl\u001b[49m\u001b[38;5;241;43m=\u001b[39;49m\u001b[43mpass_expr_memo_ctrl\u001b[49m\u001b[43m,\u001b[49m\n\u001b[1;32m    550\u001b[0m \u001b[43m        \u001b[49m\u001b[43mverbose\u001b[49m\u001b[38;5;241;43m=\u001b[39;49m\u001b[43mverbose\u001b[49m\u001b[43m,\u001b[49m\n\u001b[1;32m    551\u001b[0m \u001b[43m        \u001b[49m\u001b[43mcatch_eval_exceptions\u001b[49m\u001b[38;5;241;43m=\u001b[39;49m\u001b[43mcatch_eval_exceptions\u001b[49m\u001b[43m,\u001b[49m\n\u001b[1;32m    552\u001b[0m \u001b[43m        \u001b[49m\u001b[43mreturn_argmin\u001b[49m\u001b[38;5;241;43m=\u001b[39;49m\u001b[43mreturn_argmin\u001b[49m\u001b[43m,\u001b[49m\n\u001b[1;32m    553\u001b[0m \u001b[43m        \u001b[49m\u001b[43mshow_progressbar\u001b[49m\u001b[38;5;241;43m=\u001b[39;49m\u001b[43mshow_progressbar\u001b[49m\u001b[43m,\u001b[49m\n\u001b[1;32m    554\u001b[0m \u001b[43m        \u001b[49m\u001b[43mearly_stop_fn\u001b[49m\u001b[38;5;241;43m=\u001b[39;49m\u001b[43mearly_stop_fn\u001b[49m\u001b[43m,\u001b[49m\n\u001b[1;32m    555\u001b[0m \u001b[43m        \u001b[49m\u001b[43mtrials_save_file\u001b[49m\u001b[38;5;241;43m=\u001b[39;49m\u001b[43mtrials_save_file\u001b[49m\u001b[43m,\u001b[49m\n\u001b[1;32m    556\u001b[0m \u001b[43m    \u001b[49m\u001b[43m)\u001b[49m\n\u001b[1;32m    558\u001b[0m \u001b[38;5;28;01mif\u001b[39;00m trials \u001b[38;5;129;01mis\u001b[39;00m \u001b[38;5;28;01mNone\u001b[39;00m:\n\u001b[1;32m    559\u001b[0m     \u001b[38;5;28;01mif\u001b[39;00m os\u001b[38;5;241m.\u001b[39mpath\u001b[38;5;241m.\u001b[39mexists(trials_save_file):\n",
      "File \u001b[0;32m/media/hodfa/Hoda/miniconda/envs/pytorch-env/lib/python3.9/site-packages/hyperopt/base.py:671\u001b[0m, in \u001b[0;36mTrials.fmin\u001b[0;34m(self, fn, space, algo, max_evals, timeout, loss_threshold, max_queue_len, rstate, verbose, pass_expr_memo_ctrl, catch_eval_exceptions, return_argmin, show_progressbar, early_stop_fn, trials_save_file)\u001b[0m\n\u001b[1;32m    666\u001b[0m \u001b[38;5;66;03m# -- Stop-gap implementation!\u001b[39;00m\n\u001b[1;32m    667\u001b[0m \u001b[38;5;66;03m#    fmin should have been a Trials method in the first place\u001b[39;00m\n\u001b[1;32m    668\u001b[0m \u001b[38;5;66;03m#    but for now it's still sitting in another file.\u001b[39;00m\n\u001b[1;32m    669\u001b[0m \u001b[38;5;28;01mfrom\u001b[39;00m \u001b[38;5;21;01m.\u001b[39;00m\u001b[38;5;21;01mfmin\u001b[39;00m \u001b[38;5;28;01mimport\u001b[39;00m fmin\n\u001b[0;32m--> 671\u001b[0m \u001b[38;5;28;01mreturn\u001b[39;00m \u001b[43mfmin\u001b[49m\u001b[43m(\u001b[49m\n\u001b[1;32m    672\u001b[0m \u001b[43m    \u001b[49m\u001b[43mfn\u001b[49m\u001b[43m,\u001b[49m\n\u001b[1;32m    673\u001b[0m \u001b[43m    \u001b[49m\u001b[43mspace\u001b[49m\u001b[43m,\u001b[49m\n\u001b[1;32m    674\u001b[0m \u001b[43m    \u001b[49m\u001b[43malgo\u001b[49m\u001b[38;5;241;43m=\u001b[39;49m\u001b[43malgo\u001b[49m\u001b[43m,\u001b[49m\n\u001b[1;32m    675\u001b[0m \u001b[43m    \u001b[49m\u001b[43mmax_evals\u001b[49m\u001b[38;5;241;43m=\u001b[39;49m\u001b[43mmax_evals\u001b[49m\u001b[43m,\u001b[49m\n\u001b[1;32m    676\u001b[0m \u001b[43m    \u001b[49m\u001b[43mtimeout\u001b[49m\u001b[38;5;241;43m=\u001b[39;49m\u001b[43mtimeout\u001b[49m\u001b[43m,\u001b[49m\n\u001b[1;32m    677\u001b[0m \u001b[43m    \u001b[49m\u001b[43mloss_threshold\u001b[49m\u001b[38;5;241;43m=\u001b[39;49m\u001b[43mloss_threshold\u001b[49m\u001b[43m,\u001b[49m\n\u001b[1;32m    678\u001b[0m \u001b[43m    \u001b[49m\u001b[43mtrials\u001b[49m\u001b[38;5;241;43m=\u001b[39;49m\u001b[38;5;28;43mself\u001b[39;49m\u001b[43m,\u001b[49m\n\u001b[1;32m    679\u001b[0m \u001b[43m    \u001b[49m\u001b[43mrstate\u001b[49m\u001b[38;5;241;43m=\u001b[39;49m\u001b[43mrstate\u001b[49m\u001b[43m,\u001b[49m\n\u001b[1;32m    680\u001b[0m \u001b[43m    \u001b[49m\u001b[43mverbose\u001b[49m\u001b[38;5;241;43m=\u001b[39;49m\u001b[43mverbose\u001b[49m\u001b[43m,\u001b[49m\n\u001b[1;32m    681\u001b[0m \u001b[43m    \u001b[49m\u001b[43mmax_queue_len\u001b[49m\u001b[38;5;241;43m=\u001b[39;49m\u001b[43mmax_queue_len\u001b[49m\u001b[43m,\u001b[49m\n\u001b[1;32m    682\u001b[0m \u001b[43m    \u001b[49m\u001b[43mallow_trials_fmin\u001b[49m\u001b[38;5;241;43m=\u001b[39;49m\u001b[38;5;28;43;01mFalse\u001b[39;49;00m\u001b[43m,\u001b[49m\u001b[43m  \u001b[49m\u001b[38;5;66;43;03m# -- prevent recursion\u001b[39;49;00m\n\u001b[1;32m    683\u001b[0m \u001b[43m    \u001b[49m\u001b[43mpass_expr_memo_ctrl\u001b[49m\u001b[38;5;241;43m=\u001b[39;49m\u001b[43mpass_expr_memo_ctrl\u001b[49m\u001b[43m,\u001b[49m\n\u001b[1;32m    684\u001b[0m \u001b[43m    \u001b[49m\u001b[43mcatch_eval_exceptions\u001b[49m\u001b[38;5;241;43m=\u001b[39;49m\u001b[43mcatch_eval_exceptions\u001b[49m\u001b[43m,\u001b[49m\n\u001b[1;32m    685\u001b[0m \u001b[43m    \u001b[49m\u001b[43mreturn_argmin\u001b[49m\u001b[38;5;241;43m=\u001b[39;49m\u001b[43mreturn_argmin\u001b[49m\u001b[43m,\u001b[49m\n\u001b[1;32m    686\u001b[0m \u001b[43m    \u001b[49m\u001b[43mshow_progressbar\u001b[49m\u001b[38;5;241;43m=\u001b[39;49m\u001b[43mshow_progressbar\u001b[49m\u001b[43m,\u001b[49m\n\u001b[1;32m    687\u001b[0m \u001b[43m    \u001b[49m\u001b[43mearly_stop_fn\u001b[49m\u001b[38;5;241;43m=\u001b[39;49m\u001b[43mearly_stop_fn\u001b[49m\u001b[43m,\u001b[49m\n\u001b[1;32m    688\u001b[0m \u001b[43m    \u001b[49m\u001b[43mtrials_save_file\u001b[49m\u001b[38;5;241;43m=\u001b[39;49m\u001b[43mtrials_save_file\u001b[49m\u001b[43m,\u001b[49m\n\u001b[1;32m    689\u001b[0m \u001b[43m\u001b[49m\u001b[43m)\u001b[49m\n",
      "File \u001b[0;32m/media/hodfa/Hoda/miniconda/envs/pytorch-env/lib/python3.9/site-packages/hyperopt/fmin.py:586\u001b[0m, in \u001b[0;36mfmin\u001b[0;34m(fn, space, algo, max_evals, timeout, loss_threshold, trials, rstate, allow_trials_fmin, pass_expr_memo_ctrl, catch_eval_exceptions, verbose, return_argmin, points_to_evaluate, max_queue_len, show_progressbar, early_stop_fn, trials_save_file)\u001b[0m\n\u001b[1;32m    583\u001b[0m rval\u001b[38;5;241m.\u001b[39mcatch_eval_exceptions \u001b[38;5;241m=\u001b[39m catch_eval_exceptions\n\u001b[1;32m    585\u001b[0m \u001b[38;5;66;03m# next line is where the fmin is actually executed\u001b[39;00m\n\u001b[0;32m--> 586\u001b[0m \u001b[43mrval\u001b[49m\u001b[38;5;241;43m.\u001b[39;49m\u001b[43mexhaust\u001b[49m\u001b[43m(\u001b[49m\u001b[43m)\u001b[49m\n\u001b[1;32m    588\u001b[0m \u001b[38;5;28;01mif\u001b[39;00m return_argmin:\n\u001b[1;32m    589\u001b[0m     \u001b[38;5;28;01mif\u001b[39;00m \u001b[38;5;28mlen\u001b[39m(trials\u001b[38;5;241m.\u001b[39mtrials) \u001b[38;5;241m==\u001b[39m \u001b[38;5;241m0\u001b[39m:\n",
      "File \u001b[0;32m/media/hodfa/Hoda/miniconda/envs/pytorch-env/lib/python3.9/site-packages/hyperopt/fmin.py:364\u001b[0m, in \u001b[0;36mFMinIter.exhaust\u001b[0;34m(self)\u001b[0m\n\u001b[1;32m    362\u001b[0m \u001b[38;5;28;01mdef\u001b[39;00m \u001b[38;5;21mexhaust\u001b[39m(\u001b[38;5;28mself\u001b[39m):\n\u001b[1;32m    363\u001b[0m     n_done \u001b[38;5;241m=\u001b[39m \u001b[38;5;28mlen\u001b[39m(\u001b[38;5;28mself\u001b[39m\u001b[38;5;241m.\u001b[39mtrials)\n\u001b[0;32m--> 364\u001b[0m     \u001b[38;5;28;43mself\u001b[39;49m\u001b[38;5;241;43m.\u001b[39;49m\u001b[43mrun\u001b[49m\u001b[43m(\u001b[49m\u001b[38;5;28;43mself\u001b[39;49m\u001b[38;5;241;43m.\u001b[39;49m\u001b[43mmax_evals\u001b[49m\u001b[43m \u001b[49m\u001b[38;5;241;43m-\u001b[39;49m\u001b[43m \u001b[49m\u001b[43mn_done\u001b[49m\u001b[43m,\u001b[49m\u001b[43m \u001b[49m\u001b[43mblock_until_done\u001b[49m\u001b[38;5;241;43m=\u001b[39;49m\u001b[38;5;28;43mself\u001b[39;49m\u001b[38;5;241;43m.\u001b[39;49m\u001b[43masynchronous\u001b[49m\u001b[43m)\u001b[49m\n\u001b[1;32m    365\u001b[0m     \u001b[38;5;28mself\u001b[39m\u001b[38;5;241m.\u001b[39mtrials\u001b[38;5;241m.\u001b[39mrefresh()\n\u001b[1;32m    366\u001b[0m     \u001b[38;5;28;01mreturn\u001b[39;00m \u001b[38;5;28mself\u001b[39m\n",
      "File \u001b[0;32m/media/hodfa/Hoda/miniconda/envs/pytorch-env/lib/python3.9/site-packages/hyperopt/fmin.py:300\u001b[0m, in \u001b[0;36mFMinIter.run\u001b[0;34m(self, N, block_until_done)\u001b[0m\n\u001b[1;32m    297\u001b[0m     time\u001b[38;5;241m.\u001b[39msleep(\u001b[38;5;28mself\u001b[39m\u001b[38;5;241m.\u001b[39mpoll_interval_secs)\n\u001b[1;32m    298\u001b[0m \u001b[38;5;28;01melse\u001b[39;00m:\n\u001b[1;32m    299\u001b[0m     \u001b[38;5;66;03m# -- loop over trials and do the jobs directly\u001b[39;00m\n\u001b[0;32m--> 300\u001b[0m     \u001b[38;5;28;43mself\u001b[39;49m\u001b[38;5;241;43m.\u001b[39;49m\u001b[43mserial_evaluate\u001b[49m\u001b[43m(\u001b[49m\u001b[43m)\u001b[49m\n\u001b[1;32m    302\u001b[0m \u001b[38;5;28mself\u001b[39m\u001b[38;5;241m.\u001b[39mtrials\u001b[38;5;241m.\u001b[39mrefresh()\n\u001b[1;32m    303\u001b[0m \u001b[38;5;28;01mif\u001b[39;00m \u001b[38;5;28mself\u001b[39m\u001b[38;5;241m.\u001b[39mtrials_save_file \u001b[38;5;241m!=\u001b[39m \u001b[38;5;124m\"\u001b[39m\u001b[38;5;124m\"\u001b[39m:\n",
      "File \u001b[0;32m/media/hodfa/Hoda/miniconda/envs/pytorch-env/lib/python3.9/site-packages/hyperopt/fmin.py:178\u001b[0m, in \u001b[0;36mFMinIter.serial_evaluate\u001b[0;34m(self, N)\u001b[0m\n\u001b[1;32m    176\u001b[0m ctrl \u001b[38;5;241m=\u001b[39m base\u001b[38;5;241m.\u001b[39mCtrl(\u001b[38;5;28mself\u001b[39m\u001b[38;5;241m.\u001b[39mtrials, current_trial\u001b[38;5;241m=\u001b[39mtrial)\n\u001b[1;32m    177\u001b[0m \u001b[38;5;28;01mtry\u001b[39;00m:\n\u001b[0;32m--> 178\u001b[0m     result \u001b[38;5;241m=\u001b[39m \u001b[38;5;28;43mself\u001b[39;49m\u001b[38;5;241;43m.\u001b[39;49m\u001b[43mdomain\u001b[49m\u001b[38;5;241;43m.\u001b[39;49m\u001b[43mevaluate\u001b[49m\u001b[43m(\u001b[49m\u001b[43mspec\u001b[49m\u001b[43m,\u001b[49m\u001b[43m \u001b[49m\u001b[43mctrl\u001b[49m\u001b[43m)\u001b[49m\n\u001b[1;32m    179\u001b[0m \u001b[38;5;28;01mexcept\u001b[39;00m \u001b[38;5;167;01mException\u001b[39;00m \u001b[38;5;28;01mas\u001b[39;00m e:\n\u001b[1;32m    180\u001b[0m     logger\u001b[38;5;241m.\u001b[39merror(\u001b[38;5;124m\"\u001b[39m\u001b[38;5;124mjob exception: \u001b[39m\u001b[38;5;132;01m%s\u001b[39;00m\u001b[38;5;124m\"\u001b[39m \u001b[38;5;241m%\u001b[39m \u001b[38;5;28mstr\u001b[39m(e))\n",
      "File \u001b[0;32m/media/hodfa/Hoda/miniconda/envs/pytorch-env/lib/python3.9/site-packages/hyperopt/base.py:892\u001b[0m, in \u001b[0;36mDomain.evaluate\u001b[0;34m(self, config, ctrl, attach_attachments)\u001b[0m\n\u001b[1;32m    883\u001b[0m \u001b[38;5;28;01melse\u001b[39;00m:\n\u001b[1;32m    884\u001b[0m     \u001b[38;5;66;03m# -- the \"work\" of evaluating `config` can be written\u001b[39;00m\n\u001b[1;32m    885\u001b[0m     \u001b[38;5;66;03m#    either into the pyll part (self.expr)\u001b[39;00m\n\u001b[1;32m    886\u001b[0m     \u001b[38;5;66;03m#    or the normal Python part (self.fn)\u001b[39;00m\n\u001b[1;32m    887\u001b[0m     pyll_rval \u001b[38;5;241m=\u001b[39m pyll\u001b[38;5;241m.\u001b[39mrec_eval(\n\u001b[1;32m    888\u001b[0m         \u001b[38;5;28mself\u001b[39m\u001b[38;5;241m.\u001b[39mexpr,\n\u001b[1;32m    889\u001b[0m         memo\u001b[38;5;241m=\u001b[39mmemo,\n\u001b[1;32m    890\u001b[0m         print_node_on_error\u001b[38;5;241m=\u001b[39m\u001b[38;5;28mself\u001b[39m\u001b[38;5;241m.\u001b[39mrec_eval_print_node_on_error,\n\u001b[1;32m    891\u001b[0m     )\n\u001b[0;32m--> 892\u001b[0m     rval \u001b[38;5;241m=\u001b[39m \u001b[38;5;28;43mself\u001b[39;49m\u001b[38;5;241;43m.\u001b[39;49m\u001b[43mfn\u001b[49m\u001b[43m(\u001b[49m\u001b[43mpyll_rval\u001b[49m\u001b[43m)\u001b[49m\n\u001b[1;32m    894\u001b[0m \u001b[38;5;28;01mif\u001b[39;00m \u001b[38;5;28misinstance\u001b[39m(rval, (\u001b[38;5;28mfloat\u001b[39m, \u001b[38;5;28mint\u001b[39m, np\u001b[38;5;241m.\u001b[39mnumber)):\n\u001b[1;32m    895\u001b[0m     dict_rval \u001b[38;5;241m=\u001b[39m {\u001b[38;5;124m\"\u001b[39m\u001b[38;5;124mloss\u001b[39m\u001b[38;5;124m\"\u001b[39m: \u001b[38;5;28mfloat\u001b[39m(rval), \u001b[38;5;124m\"\u001b[39m\u001b[38;5;124mstatus\u001b[39m\u001b[38;5;124m\"\u001b[39m: STATUS_OK}\n",
      "Input \u001b[0;32mIn [38]\u001b[0m, in \u001b[0;36mtrain\u001b[0;34m(epochs)\u001b[0m\n\u001b[1;32m      1\u001b[0m \u001b[38;5;28;01mdef\u001b[39;00m \u001b[38;5;21mtrain\u001b[39m(epochs):\n\u001b[0;32m----> 3\u001b[0m     \u001b[38;5;28;01mfor\u001b[39;00m epoch \u001b[38;5;129;01min\u001b[39;00m \u001b[38;5;28mrange\u001b[39m(\u001b[38;5;241m1\u001b[39m, \u001b[43mepochs\u001b[49m\u001b[43m \u001b[49m\u001b[38;5;241;43m+\u001b[39;49m\u001b[43m \u001b[49m\u001b[38;5;241;43m1\u001b[39;49m):\n\u001b[1;32m      4\u001b[0m         discriminator_loss_epoch \u001b[38;5;241m=\u001b[39m \u001b[38;5;241m0\u001b[39m\n\u001b[1;32m      5\u001b[0m         generator_loss_epoch \u001b[38;5;241m=\u001b[39m \u001b[38;5;241m0\u001b[39m\n",
      "\u001b[0;31mTypeError\u001b[0m: unsupported operand type(s) for +: 'dict' and 'int'"
     ]
    }
   ],
   "source": [
    "best = fmin(train, space, algo=tpe.suggest, max_evals=50, trials=trials)\n"
   ]
  },
  {
   "cell_type": "code",
   "execution_count": null,
   "id": "793a8951",
   "metadata": {},
   "outputs": [],
   "source": [
    "def f_nn(params):   \n",
    "    \n",
    "    from torch.optim import SGD, Adam, rmsprop\n",
    "\n",
    "    generator = nn.Sequential(\n",
    "    nn.Linear(generator_input_size, generator_width),\n",
    "    nn.ReLU(),\n",
    "    nn.Linear(generator_width, generator_width),\n",
    "    \n",
    "  \n",
    "    nn.LeakyReLU(0.05),\n",
    "    nn.Linear(generator_width, generator_width//2),\n",
    "    nn.BatchNorm1d(generator_width//2),\n",
    "    nn.LeakyReLU(0.05),\n",
    "    nn.Linear(generator_width//2, generator_width//4),\n",
    "    nn.BatchNorm1d(generator_width//4),\n",
    "    nn.LeakyReLU(0.01),\n",
    "    nn.Linear(generator_width//4, 1),\n",
    ")\n",
    "    \n",
    "    \n",
    "\n",
    "\n",
    "    model.fit(X, y, nb_epoch=params['nb_epochs'], batch_size=params['batch_size'], verbose = 0)\n",
    "\n",
    "    pred_auc =model.predict_proba(X_val, batch_size = 128, verbose = 0)\n",
    "    acc = roc_auc_score(y_val, pred_auc)\n",
    "    print('AUC:', acc)\n",
    "    sys.stdout.flush() \n",
    "    return {'loss': -acc, 'status': STATUS_OK}\n",
    "\n",
    "\n",
    "trials = Trials()\n",
    "best = fmin(f_nn, space, algo=tpe.suggest, max_evals=50, trials=trials)\n",
    "print('best: ', best)\n",
    "\n",
    "    print ('Params testing: ', params)\n",
    "    model = Sequential()\n",
    "    model.add(Dense(output_dim=params['units1'], input_dim = X.shape[1])) \n",
    "    model.add(Activation(params['activation']))\n",
    "    model.add(Dropout(params['dropout1']))\n",
    "\n",
    "    model.add(Dense(output_dim=params['units2'], init = \"glorot_uniform\")) \n",
    "    model.add(Activation(params['activation']))\n",
    "    model.add(Dropout(params['dropout2']))\n",
    "\n",
    "    if params['choice']['layers']== 'three':\n",
    "        model.add(Dense(output_dim=params['choice']['units3'], init = \"glorot_uniform\")) \n",
    "        model.add(Activation(params['activation']))\n",
    "        model.add(Dropout(params['choice']['dropout3']))    \n",
    "\n",
    "    model.add(Dense(1))\n",
    "    model.add(Activation('sigmoid'))\n",
    "    model.compile(loss='binary_crossentropy', optimizer=params['optimizer'])\n",
    "\n",
    "    model.fit(X, y, nb_epoch=params['nb_epochs'], batch_size=params['batch_size'], verbose = 0)\n",
    "\n",
    "    pred_auc =model.predict_proba(X_val, batch_size = 128, verbose = 0)\n",
    "    acc = roc_auc_score(y_val, pred_auc)\n",
    "    print('AUC:', acc)\n",
    "    sys.stdout.flush() \n",
    "    return {'loss': -acc, 'status': STATUS_OK}\n",
    "\n",
    "\n",
    "trials = Trials()\n",
    "best = fmin(f_nn, space, algo=tpe.suggest, max_evals=50, trials=trials)\n",
    "print('best: ', best)"
   ]
  },
  {
   "cell_type": "code",
   "execution_count": null,
   "id": "d14d7ad5",
   "metadata": {},
   "outputs": [],
   "source": [
    "\n",
    "from hyperopt import fmin, tpe, hp, STATUS_OK, Trials\n",
    "from sklearn.metrics import roc_auc_score\n",
    "import sys\n",
    "\n",
    "X = []\n",
    "y = []\n",
    "X_val = []\n",
    "y_val = []\n",
    "\n",
    "space = {'choice': hp.choice(\n",
    "                    [ \n",
    "\n",
    "           \n",
    "           \n",
    "            'batch_size' : hp.uniform('batch_size', 28,128),\n",
    "\n",
    "            'nb_epochs' :  10,\n",
    "            'optimizer': hp.choice('optimizer',['adadelta','adam','rmsprop']),\n",
    "            'activation': 'relu'\n",
    "                        \n",
    "        }]\n",
    "\n",
    "def f_nn(params):   \n",
    "\n",
    "  \n",
    "    model = Sequential()\n",
    "    model.add(Dense(output_dim=params['units1'], input_dim = X.shape[1])) \n",
    "    model.add(Activation(params['activation']))\n",
    "    model.add(Dropout(params['dropout1']))\n",
    "\n",
    "    model.add(Dense(output_dim=params['units2'], init = \"glorot_uniform\")) \n",
    "    model.add(Activation(params['activation']))\n",
    "    model.add(Dropout(params['dropout2']))\n",
    "\n",
    "    if params['choice']['layers']== 'three':\n",
    "        model.add(Dense(output_dim=params['choice']['units3'], init = \"glorot_uniform\")) \n",
    "        model.add(Activation(params['activation']))\n",
    "        model.add(Dropout(params['choice']['dropout3']))    \n",
    "\n",
    "    model.add(Dense(1))\n",
    "    model.add(Activation('sigmoid'))\n",
    "    model.compile(loss='binary_crossentropy', optimizer=params['optimizer'])\n",
    "\n",
    "    model.fit(X, y, nb_epoch=params['nb_epochs'], batch_size=params['batch_size'], verbose = 0)\n",
    "\n",
    "    pred_auc =model.predict_proba(X_val, batch_size = 128, verbose = 0)\n",
    "    acc = roc_auc_score(y_val, pred_auc)\n",
    "    print('AUC:', acc)\n",
    "    sys.stdout.flush() \n",
    "    return {'loss': -acc, 'status': STATUS_OK}\n",
    "\n",
    "\n",
    "trials = Trials()\n",
    "best = fmin(f_nn, space, algo=tpe.suggest, max_evals=50, trials=trials)\n",
    "print('best: ', best)"
   ]
  },
  {
   "cell_type": "code",
   "execution_count": 7,
   "id": "d7307972",
   "metadata": {},
   "outputs": [],
   "source": [
    "from functools import partial\n",
    "import numpy as np\n",
    "import os\n",
    "import torch\n",
    "import torch.nn as nn\n",
    "import torch.nn.functional as F\n",
    "import torch.optim as optim\n",
    "from torch.utils.data import random_split\n",
    "import torchvision\n",
    "import torchvision.transforms as transforms\n",
    "from ray import tune\n",
    "from ray.tune import CLIReporter\n",
    "from ray.tune.schedulers import ASHAScheduler\n"
   ]
  },
  {
   "cell_type": "code",
   "execution_count": 8,
   "id": "004fa3c9",
   "metadata": {},
   "outputs": [
    {
     "ename": "NameError",
     "evalue": "name 'data' is not defined",
     "output_type": "error",
     "traceback": [
      "\u001b[0;31m---------------------------------------------------------------------------\u001b[0m",
      "\u001b[0;31mNameError\u001b[0m                                 Traceback (most recent call last)",
      "Input \u001b[0;32mIn [8]\u001b[0m, in \u001b[0;36m<module>\u001b[0;34m\u001b[0m\n\u001b[0;32m----> 1\u001b[0m n_training \u001b[38;5;241m=\u001b[39m \u001b[38;5;28mround\u001b[39m(\u001b[38;5;241m0.9\u001b[39m \u001b[38;5;241m*\u001b[39m \u001b[38;5;28mlen\u001b[39m(\u001b[43mdata\u001b[49m))\n\u001b[1;32m      2\u001b[0m n_testing \u001b[38;5;241m=\u001b[39m \u001b[38;5;28mlen\u001b[39m(data) \u001b[38;5;241m-\u001b[39m n_training\n\u001b[1;32m      3\u001b[0m train_data, test_data \u001b[38;5;241m=\u001b[39m torch\u001b[38;5;241m.\u001b[39mutils\u001b[38;5;241m.\u001b[39mdata\u001b[38;5;241m.\u001b[39mrandom_split(data, [n_training, n_testing])\n",
      "\u001b[0;31mNameError\u001b[0m: name 'data' is not defined"
     ]
    }
   ],
   "source": [
    "n_training = round(0.9 * len(data))\n",
    "n_testing = len(data) - n_training\n",
    "train_data, test_data = torch.utils.data.random_split(data, [n_training, n_testing])"
   ]
  },
  {
   "cell_type": "code",
   "execution_count": null,
   "id": "a7323de2",
   "metadata": {},
   "outputs": [],
   "source": [
    "from hyperopt import fmin, tpe, hp, Trials\n",
    "\n",
    "from helpers import train_validate\n",
    "\n",
    "\n",
    "\n",
    "trials = Trials()\n",
    "\n",
    "space = {\n",
    "\n",
    "'activation': hp.choice('activation', [nn.LeakyReLU(), nn.ReLU6(), nn.Sigmoid()]),\n",
    "\n",
    "'n_layers': hp.uniform('n_layers', 4, 12),\n",
    "\n",
    "'layer_size': hp.choice('layer_size', [8,16,32]),\n",
    "\n",
    "'epochs': hp.uniform('epochs', 50, 200)\n",
    "\n",
    "}\n",
    "\n",
    "best = fmin(fn=, True),\n",
    "\n",
    "space = space,\n",
    "\n",
    "algo=tpe.suggest,\n",
    "\n",
    "max_evals=20*4,\n",
    "\n",
    "trials = trials)\n",
    "\n",
    "\n",
    "\n",
    "print(best)"
   ]
  },
  {
   "cell_type": "code",
   "execution_count": null,
   "id": "cf479e0a",
   "metadata": {},
   "outputs": [],
   "source": [
    "def objective(params):\n",
    "    params = {\n",
    "        'activation': hp.choice('activation', [nn.LeakyReLU(), nn.ReLU6(), nn.Sigmoid()]), \n",
    "        'epochs': hp.uniform('epochs', 50, 200)\n",
    "        \n",
    "    }\n",
    "\n",
    "clf = RandomForestClassifier( **params)\n",
    "    score = cross_val_score(clf, X, y, scoring='accuracy', cv=StratifiedKFold(n_splits=3)).mean()\n",
    "    #print(\"ROC-AUC {:.3f} params {}\".format(score, params))\n",
    "\n",
    "    return {'loss':-score, 'status': STATUS_OK }"
   ]
  },
  {
   "cell_type": "code",
   "execution_count": 71,
   "id": "8ae844b6",
   "metadata": {},
   "outputs": [],
   "source": [
    "epochs = np.array([10,50,100],'i')\n",
    "l = [32,64,128]\n"
   ]
  },
  {
   "cell_type": "code",
   "execution_count": null,
   "id": "d492f5a2",
   "metadata": {},
   "outputs": [],
   "source": [
    "\n",
    "train_loader = torch.utils.data.DataLoader(train_data, batch_size=batch_size, num_workers=8)\n",
    "test_loader = torch.utils.data.DataLoader(test_data, batch_size=batch_size, num_workers=8)"
   ]
  },
  {
   "cell_type": "code",
   "execution_count": 77,
   "id": "f21c1041",
   "metadata": {},
   "outputs": [],
   "source": [
    "maxiter = 10"
   ]
  },
  {
   "cell_type": "code",
   "execution_count": 79,
   "id": "9b0e62ac",
   "metadata": {},
   "outputs": [],
   "source": [
    "loss_hist = np.zeros(shape = [len(l),len(epochs)])"
   ]
  },
  {
   "cell_type": "code",
   "execution_count": 80,
   "id": "ef8bdf2f",
   "metadata": {},
   "outputs": [],
   "source": [
    "for i in range(len(l)):\n",
    "    \n",
    "    train_loader = torch.utils.data.DataLoader(train_data, batch_size=l[i], num_workers=8)\n",
    "    test_loader = torch.utils.data.DataLoader(test_data, batch_size=l[i], num_workers=8)\n",
    "    for j in range(len(epochs)):\n",
    "        loss_hist[i,j] =  train(epochs[j])"
   ]
  },
  {
   "cell_type": "code",
   "execution_count": 81,
   "id": "157a104a",
   "metadata": {},
   "outputs": [
    {
     "data": {
      "text/plain": [
       "array([[0.69467495, 0.70262346, 0.6990804 ],\n",
       "       [0.70144451, 0.70240178, 0.70333054],\n",
       "       [0.70230203, 0.69682412, 0.69662125]])"
      ]
     },
     "execution_count": 81,
     "metadata": {},
     "output_type": "execute_result"
    }
   ],
   "source": [
    "loss_hist"
   ]
  },
  {
   "cell_type": "code",
   "execution_count": null,
   "id": "2032cab2",
   "metadata": {},
   "outputs": [],
   "source": [
    "import torch\n",
    "import torch.nn as nn\n",
    "\n",
    "num_samples = len(data)\n",
    "input_size = 10\n",
    "layer_size = 15\n",
    "output_size = 5\n",
    "\n",
    "class NeuralNetwork(nn.Module):\n",
    "    def __init__(self):\n",
    "        super(NeuralNetwork, self).__init__()\n",
    "        self.layer1 = nn.Linear(input_size, layer_size)\n",
    "        self.relu = nn.ReLU()\n",
    "        self.layer2 = nn.Linear(layer_size, output_size)\n",
    "\n",
    "    def forward(self, input):\n",
    "        return self.layer2(self.relu(self.layer1(input)))\n",
    "\n",
    "# In this example we use a randomly generated dataset.\n",
    "input = torch.randn(num_samples, input_size)\n",
    "labels = torch.randn(num_samples, output_size)\n"
   ]
  }
 ],
 "metadata": {
  "kernelspec": {
   "display_name": "Python 3 (ipykernel)",
   "language": "python",
   "name": "python3"
  },
  "language_info": {
   "codemirror_mode": {
    "name": "ipython",
    "version": 3
   },
   "file_extension": ".py",
   "mimetype": "text/x-python",
   "name": "python",
   "nbconvert_exporter": "python",
   "pygments_lexer": "ipython3",
   "version": "3.9.7"
  }
 },
 "nbformat": 4,
 "nbformat_minor": 5
}
